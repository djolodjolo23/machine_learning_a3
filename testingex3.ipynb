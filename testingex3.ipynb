{
 "cells": [
  {
   "cell_type": "code",
   "execution_count": 27,
   "metadata": {
    "collapsed": true,
    "ExecuteTime": {
     "end_time": "2023-05-07T15:16:56.121827200Z",
     "start_time": "2023-05-07T15:16:54.963294Z"
    }
   },
   "outputs": [],
   "source": [
    "import numpy as np\n",
    "from sklearn.datasets import fetch_openml\n",
    "from sklearn.model_selection import cross_val_score, GridSearchCV\n",
    "from sklearn.model_selection import train_test_split"
   ]
  },
  {
   "cell_type": "code",
   "execution_count": 28,
   "outputs": [],
   "source": [
    "mnist = fetch_openml('mnist_784', version=1)"
   ],
   "metadata": {
    "collapsed": false,
    "ExecuteTime": {
     "end_time": "2023-05-07T15:17:35.047609500Z",
     "start_time": "2023-05-07T15:16:56.121827200Z"
    }
   }
  },
  {
   "cell_type": "code",
   "execution_count": 29,
   "outputs": [],
   "source": [
    "X, y = mnist.data.values, mnist.target.values"
   ],
   "metadata": {
    "collapsed": false,
    "ExecuteTime": {
     "end_time": "2023-05-07T15:17:35.061493900Z",
     "start_time": "2023-05-07T15:17:35.047609500Z"
    }
   }
  },
  {
   "cell_type": "code",
   "execution_count": 68,
   "outputs": [],
   "source": [
    "X_train, X_test, y_train, y_test = train_test_split(X, y, train_size=60000, random_state=42)\n",
    "X_train_sample, _, y_train_sample, _ = train_test_split(X_train, y_train, train_size=10000, random_state=42)\n",
    "# take a sample of 10000 points from X_train and y_train"
   ],
   "metadata": {
    "collapsed": false,
    "ExecuteTime": {
     "end_time": "2023-05-07T15:17:35.798436Z",
     "start_time": "2023-05-07T15:17:35.063639100Z"
    }
   }
  },
  {
   "cell_type": "code",
   "execution_count": 103,
   "outputs": [
    {
     "data": {
      "text/plain": "GridSearchCV(cv=3, estimator=SVC(), n_jobs=-1,\n             param_grid=[{'C': [5, 6, 7], 'gamma': [0.001, 0.0008, 0.0012],\n                          'kernel': ['rbf']}],\n             return_train_score=True, scoring='accuracy')"
     },
     "execution_count": 103,
     "metadata": {},
     "output_type": "execute_result"
    }
   ],
   "source": [
    "from sklearn.preprocessing import StandardScaler\n",
    "from sklearn.svm import SVC\n",
    "import pandas as pd\n",
    "# create a clf rbf kernel\n",
    "scaler = StandardScaler()\n",
    "X_train_sample_scaled = scaler.fit_transform(X_train_sample)\n",
    "clf = SVC()\n",
    "param_grid = [{\n",
    "    \"kernel\": [\"rbf\"],\n",
    "    \"C\": [5, 6, 7],\n",
    "    \"gamma\": [0.001, 0.0008, 0.0012]\n",
    "}]\n",
    "\n",
    "\n",
    "grid_search = GridSearchCV(clf, param_grid, cv=3, n_jobs=-1, scoring='accuracy', return_train_score=True)\n",
    "grid_search.fit(X_train_sample_scaled, y_train_sample)"
   ],
   "metadata": {
    "collapsed": false,
    "is_executing": true,
    "ExecuteTime": {
     "start_time": "2023-05-07T15:17:35.804567800Z"
    }
   }
  },
  {
   "cell_type": "markdown",
   "source": [
    "After running the grid search multiple times, I noticed that gamma that always gave the best results is 0.001, so I removed the other values, that were 0.1, 0.01, and 1, to improve the performance of the grid search."
   ],
   "metadata": {
    "collapsed": false
   }
  },
  {
   "cell_type": "markdown",
   "source": [
    "After testing various different 'C' I was able to find the best possible combination which resulted in a mean test score of 0.9429 on a sample of 10000 points from the training set."
   ],
   "metadata": {
    "collapsed": false
   }
  },
  {
   "cell_type": "markdown",
   "source": [],
   "metadata": {
    "collapsed": false
   }
  },
  {
   "cell_type": "code",
   "execution_count": 104,
   "outputs": [
    {
     "data": {
      "text/plain": "   mean_fit_time  std_fit_time  mean_score_time  std_score_time param_C  \\\n0      50.055558      0.291148        27.029602        0.928448       5   \n1      45.401760      2.041783        26.073712        0.321180       5   \n2      52.605706      1.277476        26.845855        0.704313       5   \n3      47.686180      1.640839        25.986444        0.543750       6   \n4      44.285718      1.810983        26.288811        0.449135       6   \n5      42.583544      5.940133        21.390993        3.724340       6   \n6      34.811302      0.565523        17.168096        0.471076       7   \n7      31.653164      0.756594        17.011204        0.408026       7   \n8      35.635822      1.362500        18.314353        0.426017       7   \n\n  param_gamma param_kernel                                      params  \\\n0       0.001          rbf   {'C': 5, 'gamma': 0.001, 'kernel': 'rbf'}   \n1      0.0008          rbf  {'C': 5, 'gamma': 0.0008, 'kernel': 'rbf'}   \n2      0.0012          rbf  {'C': 5, 'gamma': 0.0012, 'kernel': 'rbf'}   \n3       0.001          rbf   {'C': 6, 'gamma': 0.001, 'kernel': 'rbf'}   \n4      0.0008          rbf  {'C': 6, 'gamma': 0.0008, 'kernel': 'rbf'}   \n5      0.0012          rbf  {'C': 6, 'gamma': 0.0012, 'kernel': 'rbf'}   \n6       0.001          rbf   {'C': 7, 'gamma': 0.001, 'kernel': 'rbf'}   \n7      0.0008          rbf  {'C': 7, 'gamma': 0.0008, 'kernel': 'rbf'}   \n8      0.0012          rbf  {'C': 7, 'gamma': 0.0012, 'kernel': 'rbf'}   \n\n   split0_test_score  split1_test_score  split2_test_score  mean_test_score  \\\n0           0.944511           0.940294           0.941494           0.9421   \n1           0.946611           0.941494           0.942394           0.9435   \n2           0.946911           0.940594           0.940294           0.9426   \n3           0.946011           0.941494           0.941194           0.9429   \n4           0.945111           0.941794           0.942694           0.9432   \n5           0.947211           0.940894           0.939994           0.9427   \n6           0.945411           0.940294           0.941494           0.9424   \n7           0.946611           0.942394           0.941194           0.9434   \n8           0.946311           0.941194           0.940294           0.9426   \n\n   std_test_score  rank_test_score  split0_train_score  split1_train_score  \\\n0        0.001774                9            0.996550             0.99625   \n1        0.002230                1            0.993999             0.99295   \n2        0.003051                7            0.997600             0.99805   \n3        0.002203                4            0.997450             0.99775   \n4        0.001400                3            0.994899             0.99460   \n5        0.003211                5            0.998500             0.99865   \n6        0.002185                8            0.997900             0.99820   \n7        0.002323                2            0.996250             0.99625   \n8        0.002650                6            0.999250             0.99925   \n\n   split2_train_score  mean_train_score  std_train_score  \n0             0.99580           0.99620         0.000308  \n1             0.99310           0.99335         0.000463  \n2             0.99730           0.99765         0.000308  \n3             0.99700           0.99740         0.000308  \n4             0.99445           0.99465         0.000187  \n5             0.99820           0.99845         0.000187  \n6             0.99760           0.99790         0.000245  \n7             0.99580           0.99610         0.000212  \n8             0.99850           0.99900         0.000354  ",
      "text/html": "<div>\n<style scoped>\n    .dataframe tbody tr th:only-of-type {\n        vertical-align: middle;\n    }\n\n    .dataframe tbody tr th {\n        vertical-align: top;\n    }\n\n    .dataframe thead th {\n        text-align: right;\n    }\n</style>\n<table border=\"1\" class=\"dataframe\">\n  <thead>\n    <tr style=\"text-align: right;\">\n      <th></th>\n      <th>mean_fit_time</th>\n      <th>std_fit_time</th>\n      <th>mean_score_time</th>\n      <th>std_score_time</th>\n      <th>param_C</th>\n      <th>param_gamma</th>\n      <th>param_kernel</th>\n      <th>params</th>\n      <th>split0_test_score</th>\n      <th>split1_test_score</th>\n      <th>split2_test_score</th>\n      <th>mean_test_score</th>\n      <th>std_test_score</th>\n      <th>rank_test_score</th>\n      <th>split0_train_score</th>\n      <th>split1_train_score</th>\n      <th>split2_train_score</th>\n      <th>mean_train_score</th>\n      <th>std_train_score</th>\n    </tr>\n  </thead>\n  <tbody>\n    <tr>\n      <th>0</th>\n      <td>50.055558</td>\n      <td>0.291148</td>\n      <td>27.029602</td>\n      <td>0.928448</td>\n      <td>5</td>\n      <td>0.001</td>\n      <td>rbf</td>\n      <td>{'C': 5, 'gamma': 0.001, 'kernel': 'rbf'}</td>\n      <td>0.944511</td>\n      <td>0.940294</td>\n      <td>0.941494</td>\n      <td>0.9421</td>\n      <td>0.001774</td>\n      <td>9</td>\n      <td>0.996550</td>\n      <td>0.99625</td>\n      <td>0.99580</td>\n      <td>0.99620</td>\n      <td>0.000308</td>\n    </tr>\n    <tr>\n      <th>1</th>\n      <td>45.401760</td>\n      <td>2.041783</td>\n      <td>26.073712</td>\n      <td>0.321180</td>\n      <td>5</td>\n      <td>0.0008</td>\n      <td>rbf</td>\n      <td>{'C': 5, 'gamma': 0.0008, 'kernel': 'rbf'}</td>\n      <td>0.946611</td>\n      <td>0.941494</td>\n      <td>0.942394</td>\n      <td>0.9435</td>\n      <td>0.002230</td>\n      <td>1</td>\n      <td>0.993999</td>\n      <td>0.99295</td>\n      <td>0.99310</td>\n      <td>0.99335</td>\n      <td>0.000463</td>\n    </tr>\n    <tr>\n      <th>2</th>\n      <td>52.605706</td>\n      <td>1.277476</td>\n      <td>26.845855</td>\n      <td>0.704313</td>\n      <td>5</td>\n      <td>0.0012</td>\n      <td>rbf</td>\n      <td>{'C': 5, 'gamma': 0.0012, 'kernel': 'rbf'}</td>\n      <td>0.946911</td>\n      <td>0.940594</td>\n      <td>0.940294</td>\n      <td>0.9426</td>\n      <td>0.003051</td>\n      <td>7</td>\n      <td>0.997600</td>\n      <td>0.99805</td>\n      <td>0.99730</td>\n      <td>0.99765</td>\n      <td>0.000308</td>\n    </tr>\n    <tr>\n      <th>3</th>\n      <td>47.686180</td>\n      <td>1.640839</td>\n      <td>25.986444</td>\n      <td>0.543750</td>\n      <td>6</td>\n      <td>0.001</td>\n      <td>rbf</td>\n      <td>{'C': 6, 'gamma': 0.001, 'kernel': 'rbf'}</td>\n      <td>0.946011</td>\n      <td>0.941494</td>\n      <td>0.941194</td>\n      <td>0.9429</td>\n      <td>0.002203</td>\n      <td>4</td>\n      <td>0.997450</td>\n      <td>0.99775</td>\n      <td>0.99700</td>\n      <td>0.99740</td>\n      <td>0.000308</td>\n    </tr>\n    <tr>\n      <th>4</th>\n      <td>44.285718</td>\n      <td>1.810983</td>\n      <td>26.288811</td>\n      <td>0.449135</td>\n      <td>6</td>\n      <td>0.0008</td>\n      <td>rbf</td>\n      <td>{'C': 6, 'gamma': 0.0008, 'kernel': 'rbf'}</td>\n      <td>0.945111</td>\n      <td>0.941794</td>\n      <td>0.942694</td>\n      <td>0.9432</td>\n      <td>0.001400</td>\n      <td>3</td>\n      <td>0.994899</td>\n      <td>0.99460</td>\n      <td>0.99445</td>\n      <td>0.99465</td>\n      <td>0.000187</td>\n    </tr>\n    <tr>\n      <th>5</th>\n      <td>42.583544</td>\n      <td>5.940133</td>\n      <td>21.390993</td>\n      <td>3.724340</td>\n      <td>6</td>\n      <td>0.0012</td>\n      <td>rbf</td>\n      <td>{'C': 6, 'gamma': 0.0012, 'kernel': 'rbf'}</td>\n      <td>0.947211</td>\n      <td>0.940894</td>\n      <td>0.939994</td>\n      <td>0.9427</td>\n      <td>0.003211</td>\n      <td>5</td>\n      <td>0.998500</td>\n      <td>0.99865</td>\n      <td>0.99820</td>\n      <td>0.99845</td>\n      <td>0.000187</td>\n    </tr>\n    <tr>\n      <th>6</th>\n      <td>34.811302</td>\n      <td>0.565523</td>\n      <td>17.168096</td>\n      <td>0.471076</td>\n      <td>7</td>\n      <td>0.001</td>\n      <td>rbf</td>\n      <td>{'C': 7, 'gamma': 0.001, 'kernel': 'rbf'}</td>\n      <td>0.945411</td>\n      <td>0.940294</td>\n      <td>0.941494</td>\n      <td>0.9424</td>\n      <td>0.002185</td>\n      <td>8</td>\n      <td>0.997900</td>\n      <td>0.99820</td>\n      <td>0.99760</td>\n      <td>0.99790</td>\n      <td>0.000245</td>\n    </tr>\n    <tr>\n      <th>7</th>\n      <td>31.653164</td>\n      <td>0.756594</td>\n      <td>17.011204</td>\n      <td>0.408026</td>\n      <td>7</td>\n      <td>0.0008</td>\n      <td>rbf</td>\n      <td>{'C': 7, 'gamma': 0.0008, 'kernel': 'rbf'}</td>\n      <td>0.946611</td>\n      <td>0.942394</td>\n      <td>0.941194</td>\n      <td>0.9434</td>\n      <td>0.002323</td>\n      <td>2</td>\n      <td>0.996250</td>\n      <td>0.99625</td>\n      <td>0.99580</td>\n      <td>0.99610</td>\n      <td>0.000212</td>\n    </tr>\n    <tr>\n      <th>8</th>\n      <td>35.635822</td>\n      <td>1.362500</td>\n      <td>18.314353</td>\n      <td>0.426017</td>\n      <td>7</td>\n      <td>0.0012</td>\n      <td>rbf</td>\n      <td>{'C': 7, 'gamma': 0.0012, 'kernel': 'rbf'}</td>\n      <td>0.946311</td>\n      <td>0.941194</td>\n      <td>0.940294</td>\n      <td>0.9426</td>\n      <td>0.002650</td>\n      <td>6</td>\n      <td>0.999250</td>\n      <td>0.99925</td>\n      <td>0.99850</td>\n      <td>0.99900</td>\n      <td>0.000354</td>\n    </tr>\n  </tbody>\n</table>\n</div>"
     },
     "execution_count": 104,
     "metadata": {},
     "output_type": "execute_result"
    }
   ],
   "source": [
    "# printing all results\n",
    "cvres = grid_search.cv_results_\n",
    "df = pd.DataFrame(cvres)\n",
    "df"
   ],
   "metadata": {
    "collapsed": false
   }
  },
  {
   "cell_type": "code",
   "execution_count": 106,
   "outputs": [
    {
     "name": "stdout",
     "output_type": "stream",
     "text": [
      "{'C': 5, 'gamma': 0.0008, 'kernel': 'rbf'}\n"
     ]
    }
   ],
   "source": [
    "# print the best parameters (CURRENT BEST C = 6, GAMMA =0.001, acc on test data = 0.9457)\n",
    "print(grid_search.best_params_)"
   ],
   "metadata": {
    "collapsed": false
   }
  },
  {
   "cell_type": "code",
   "execution_count": 107,
   "outputs": [
    {
     "name": "stdout",
     "output_type": "stream",
     "text": [
      "Test Accuracy: 94.56%\n"
     ]
    }
   ],
   "source": [
    "clf_best = SVC(C=5, gamma=0.001)\n",
    "clf_best.fit(X_train_sample_scaled, y_train_sample)\n",
    "test_score = clf_best.score(scaler.transform(X_test), y_test)\n",
    "print(\"Test Accuracy: {:.2f}%\".format(test_score * 100))"
   ],
   "metadata": {
    "collapsed": false
   }
  }
 ],
 "metadata": {
  "kernelspec": {
   "display_name": "Python 3",
   "language": "python",
   "name": "python3"
  },
  "language_info": {
   "codemirror_mode": {
    "name": "ipython",
    "version": 2
   },
   "file_extension": ".py",
   "mimetype": "text/x-python",
   "name": "python",
   "nbconvert_exporter": "python",
   "pygments_lexer": "ipython2",
   "version": "2.7.6"
  }
 },
 "nbformat": 4,
 "nbformat_minor": 0
}
