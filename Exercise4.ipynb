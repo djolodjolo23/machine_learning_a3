{
 "cells": [
  {
   "cell_type": "code",
   "execution_count": 39,
   "metadata": {
    "collapsed": true,
    "ExecuteTime": {
     "end_time": "2023-05-12T09:24:52.323602200Z",
     "start_time": "2023-05-12T09:24:52.291593600Z"
    }
   },
   "outputs": [],
   "source": [
    "import numpy as np\n",
    "import pandas as pd\n",
    "from sklearn.model_selection import train_test_split"
   ]
  },
  {
   "cell_type": "code",
   "execution_count": 40,
   "outputs": [],
   "source": [
    "data = pd.read_csv('data/bm.csv').to_numpy()"
   ],
   "metadata": {
    "collapsed": false,
    "ExecuteTime": {
     "end_time": "2023-05-12T09:24:52.353596100Z",
     "start_time": "2023-05-12T09:24:52.301592500Z"
    }
   }
  },
  {
   "cell_type": "code",
   "execution_count": 41,
   "outputs": [],
   "source": [
    "random_state = np.random.randint(1, 1001)\n",
    "X_train, X_test, y_train, y_test = train_test_split(data[:, :2], data[:, 2], test_size=0.1, random_state=random_state)"
   ],
   "metadata": {
    "collapsed": false,
    "ExecuteTime": {
     "end_time": "2023-05-12T09:24:52.397594Z",
     "start_time": "2023-05-12T09:24:52.316594800Z"
    }
   }
  },
  {
   "cell_type": "code",
   "execution_count": 42,
   "outputs": [],
   "source": [
    "# this refers to indices of X_train, the r here is filled with random indices of a pair of x and y values\n",
    "from sklearn.tree import DecisionTreeClassifier\n",
    "from numpy.random import default_rng\n",
    "from sklearn.metrics import accuracy_score\n",
    "rng = default_rng()\n",
    "\n",
    "n = 5000\n",
    "r = np.zeros([n, 100], dtype=int)\n",
    "XX = np.zeros([n, 2, 100])\n",
    "\n",
    "# boostrap sampling\n",
    "for i in range (100):\n",
    "    r[:, i] = rng.choice(n, size=n, replace=True)\n",
    "    XX[:, :, i] = X_train[r[:, i], :]"
   ],
   "metadata": {
    "collapsed": false,
    "ExecuteTime": {
     "end_time": "2023-05-12T09:24:52.423594700Z",
     "start_time": "2023-05-12T09:24:52.333593Z"
    }
   }
  },
  {
   "cell_type": "code",
   "execution_count": 43,
   "outputs": [],
   "source": [
    "# training the trees with a big max_depth, so that they over fit and that I can use the pruning method.\n",
    "trees = []\n",
    "for i in range (100):\n",
    "    clf_tree = DecisionTreeClassifier()\n",
    "    clf_tree.fit(X_train[r[:, i]], y_train[r[:, i]])\n",
    "    trees.append(clf_tree)"
   ],
   "metadata": {
    "collapsed": false,
    "ExecuteTime": {
     "end_time": "2023-05-12T09:24:53.387799900Z",
     "start_time": "2023-05-12T09:24:52.385594200Z"
    }
   }
  },
  {
   "cell_type": "markdown",
   "source": [
    "I think I will use the 'pruning' method (stopping when the impurity is not significant)"
   ],
   "metadata": {
    "collapsed": false
   }
  },
  {
   "cell_type": "markdown",
   "source": [
    "note: classification error should only be used for performance, not for training.\n",
    "note: probably the best way to decide on the max_depth to use gini impurity measures and see after how many depth levels the change starts being insignificant. That's the place to stop"
   ],
   "metadata": {
    "collapsed": false
   }
  },
  {
   "cell_type": "code",
   "execution_count": 44,
   "outputs": [],
   "source": [
    "predictions = np.zeros([X_test.shape[0], 100], dtype=int)\n",
    "pred_list = []\n",
    "for i in range(len(trees)):\n",
    "    prediction = trees[i].predict(X_test)\n",
    "    predictions[:, i] = prediction\n",
    "    pred_list.append(prediction)"
   ],
   "metadata": {
    "collapsed": false,
    "ExecuteTime": {
     "end_time": "2023-05-12T09:24:53.419495600Z",
     "start_time": "2023-05-12T09:24:53.389801Z"
    }
   }
  },
  {
   "cell_type": "code",
   "execution_count": 45,
   "outputs": [],
   "source": [
    "accuracies=[]\n",
    "for pred in pred_list:\n",
    "    accuracies.append(accuracy_score(y_test, pred))"
   ],
   "metadata": {
    "collapsed": false,
    "ExecuteTime": {
     "end_time": "2023-05-12T09:24:53.483518400Z",
     "start_time": "2023-05-12T09:24:53.421497200Z"
    }
   }
  },
  {
   "cell_type": "code",
   "execution_count": 54,
   "outputs": [],
   "source": [
    "# implement majoirty vote prediction along axis 1\n",
    "random_forest_predictions = []\n",
    "for row in predictions:\n",
    "    unique_elements, counts = np.unique(row, return_counts=True)\n",
    "    majority_vote = unique_elements[np.argmax(counts)]\n",
    "    random_forest_predictions.append(majority_vote)\n",
    "\n",
    "random_forest_predictions = np.array(random_forest_predictions)\n",
    "random_forest_accuracy = np.sum(y_test == random_forest_predictions) / len(y_test)"
   ],
   "metadata": {
    "collapsed": false,
    "ExecuteTime": {
     "end_time": "2023-05-12T09:34:41.665356600Z",
     "start_time": "2023-05-12T09:34:41.638358900Z"
    }
   }
  },
  {
   "cell_type": "code",
   "execution_count": 55,
   "outputs": [],
   "source": [
    "generalization_error = 1 - random_forest_accuracy"
   ],
   "metadata": {
    "collapsed": false,
    "ExecuteTime": {
     "end_time": "2023-05-12T09:43:37.554358300Z",
     "start_time": "2023-05-12T09:43:37.510577800Z"
    }
   }
  },
  {
   "cell_type": "code",
   "execution_count": null,
   "outputs": [],
   "source": [],
   "metadata": {
    "collapsed": false
   }
  },
  {
   "cell_type": "markdown",
   "source": [],
   "metadata": {
    "collapsed": false
   }
  }
 ],
 "metadata": {
  "kernelspec": {
   "display_name": "Python 3",
   "language": "python",
   "name": "python3"
  },
  "language_info": {
   "codemirror_mode": {
    "name": "ipython",
    "version": 2
   },
   "file_extension": ".py",
   "mimetype": "text/x-python",
   "name": "python",
   "nbconvert_exporter": "python",
   "pygments_lexer": "ipython2",
   "version": "2.7.6"
  }
 },
 "nbformat": 4,
 "nbformat_minor": 0
}
