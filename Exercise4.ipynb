{
 "cells": [
  {
   "cell_type": "code",
   "execution_count": null,
   "metadata": {
    "collapsed": true,
    "is_executing": true,
    "ExecuteTime": {
     "start_time": "2023-05-11T13:04:33.878547500Z"
    }
   },
   "outputs": [],
   "source": [
    "import numpy as np\n",
    "import pandas as pd\n",
    "from sklearn.model_selection import train_test_split"
   ]
  },
  {
   "cell_type": "code",
   "execution_count": null,
   "outputs": [],
   "source": [
    "data = pd.read_csv('data/bm.csv').to_numpy()"
   ],
   "metadata": {
    "collapsed": false,
    "is_executing": true
   }
  },
  {
   "cell_type": "code",
   "execution_count": null,
   "outputs": [],
   "source": [
    "random_state = np.random.randint(1, 1001)\n",
    "X_train, X_test, y_train, y_test = train_test_split(data[:, :2], data[:, 2], test_size=0.1, random_state=random_state)"
   ],
   "metadata": {
    "collapsed": false,
    "is_executing": true
   }
  },
  {
   "cell_type": "code",
   "execution_count": null,
   "outputs": [],
   "source": [
    "# this refers to indices of X_train, the r here is filled with random indices of a pair of x and y values\n",
    "from sklearn.tree import DecisionTreeClassifier\n",
    "from numpy.random import default_rng\n",
    "from sklearn.metrics import accuracy_score\n",
    "rng = default_rng()\n",
    "\n",
    "n = 5000\n",
    "r = np.zeros([n, 100], dtype=int)\n",
    "XX = np.zeros([n, 2, 100])\n",
    "\n",
    "# boostrap sampling and training 100 trees\n",
    "trees = []\n",
    "for i in range (100):\n",
    "    r[:, i] = rng.choice(n, size=n, replace=True)\n",
    "    XX[:, :, i] = X_train[r[:, i], :]\n",
    "    clf_tree = DecisionTreeClassifier(max_depth=5, criterion='gini')\n",
    "    clf_tree.fit(XX[:, :, i], y_train[r[:, i]])\n",
    "    trees.append(clf_tree)"
   ],
   "metadata": {
    "collapsed": false,
    "is_executing": true
   }
  },
  {
   "cell_type": "markdown",
   "source": [
    "I think I will use the 'pruning' method (stopping when the impurity is not significant)"
   ],
   "metadata": {
    "collapsed": false
   }
  },
  {
   "cell_type": "markdown",
   "source": [
    "note: classification error should only be used for performance, not for training.\n",
    "note: probably the best way to decide on the max_depth to use gini impurity measures and see after how many depth levels the change starts being insignificant. That's the place to stop"
   ],
   "metadata": {
    "collapsed": false
   }
  },
  {
   "cell_type": "code",
   "execution_count": null,
   "outputs": [],
   "source": [
    "predictions = np.zeros([X_test.shape[0], 100], dtype=int)\n",
    "pred_list = []\n",
    "for i in range(len(trees)):\n",
    "    prediction = trees[i].predict(X_test)\n",
    "    predictions[:, i] = prediction\n",
    "    pred_list.append(prediction)"
   ],
   "metadata": {
    "collapsed": false,
    "is_executing": true
   }
  },
  {
   "cell_type": "code",
   "execution_count": null,
   "outputs": [],
   "source": [
    "accuracies=[]\n",
    "for pred in pred_list:\n",
    "    accuracies.append(accuracy_score(y_test, pred))"
   ],
   "metadata": {
    "collapsed": false,
    "is_executing": true
   }
  }
 ],
 "metadata": {
  "kernelspec": {
   "display_name": "Python 3",
   "language": "python",
   "name": "python3"
  },
  "language_info": {
   "codemirror_mode": {
    "name": "ipython",
    "version": 2
   },
   "file_extension": ".py",
   "mimetype": "text/x-python",
   "name": "python",
   "nbconvert_exporter": "python",
   "pygments_lexer": "ipython2",
   "version": "2.7.6"
  }
 },
 "nbformat": 4,
 "nbformat_minor": 0
}
